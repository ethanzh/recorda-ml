{
 "cells": [
  {
   "cell_type": "code",
   "execution_count": 24,
   "metadata": {},
   "outputs": [],
   "source": [
    "import pandas as pd\n",
    "import string\n",
    "import re"
   ]
  },
  {
   "cell_type": "code",
   "execution_count": 25,
   "metadata": {},
   "outputs": [
    {
     "name": "stderr",
     "output_type": "stream",
     "text": [
      "/Library/Frameworks/Python.framework/Versions/3.6/lib/python3.6/site-packages/IPython/core/interactiveshell.py:2785: DtypeWarning: Columns (1) have mixed types. Specify dtype option on import or set low_memory=False.\n",
      "  interactivity=interactivity, compiler=compiler, result=result)\n"
     ]
    }
   ],
   "source": [
    "input = pd.read_csv(\"new_raw.csv\")"
   ]
  },
  {
   "cell_type": "code",
   "execution_count": 26,
   "metadata": {},
   "outputs": [
    {
     "data": {
      "text/html": [
       "<div>\n",
       "<style scoped>\n",
       "    .dataframe tbody tr th:only-of-type {\n",
       "        vertical-align: middle;\n",
       "    }\n",
       "\n",
       "    .dataframe tbody tr th {\n",
       "        vertical-align: top;\n",
       "    }\n",
       "\n",
       "    .dataframe thead th {\n",
       "        text-align: right;\n",
       "    }\n",
       "</style>\n",
       "<table border=\"1\" class=\"dataframe\">\n",
       "  <thead>\n",
       "    <tr style=\"text-align: right;\">\n",
       "      <th></th>\n",
       "      <th>things</th>\n",
       "      <th>places</th>\n",
       "    </tr>\n",
       "  </thead>\n",
       "  <tbody>\n",
       "    <tr>\n",
       "      <th>0</th>\n",
       "      <td>Consomme printaniere royal</td>\n",
       "      <td>MAISON MARCEL</td>\n",
       "    </tr>\n",
       "    <tr>\n",
       "      <th>1</th>\n",
       "      <td>Chicken gumbo</td>\n",
       "      <td>LA UNICA FOOD MART, INC.</td>\n",
       "    </tr>\n",
       "    <tr>\n",
       "      <th>2</th>\n",
       "      <td>Tomato aux croutons</td>\n",
       "      <td>THE WING FULTON</td>\n",
       "    </tr>\n",
       "    <tr>\n",
       "      <th>3</th>\n",
       "      <td>Onion au gratin</td>\n",
       "      <td>LOOP TAVERN</td>\n",
       "    </tr>\n",
       "    <tr>\n",
       "      <th>4</th>\n",
       "      <td>St. Emilion</td>\n",
       "      <td>WABI SABI ROTARY</td>\n",
       "    </tr>\n",
       "  </tbody>\n",
       "</table>\n",
       "</div>"
      ],
      "text/plain": [
       "                       things                    places\n",
       "0  Consomme printaniere royal             MAISON MARCEL\n",
       "1               Chicken gumbo  LA UNICA FOOD MART, INC.\n",
       "2         Tomato aux croutons           THE WING FULTON\n",
       "3             Onion au gratin               LOOP TAVERN\n",
       "4                 St. Emilion          WABI SABI ROTARY"
      ]
     },
     "execution_count": 26,
     "metadata": {},
     "output_type": "execute_result"
    }
   ],
   "source": [
    "input.head()"
   ]
  },
  {
   "cell_type": "code",
   "execution_count": 27,
   "metadata": {},
   "outputs": [
    {
     "data": {
      "text/plain": [
       "0    Consomme printaniere royal\n",
       "1                 Chicken gumbo\n",
       "2           Tomato aux croutons\n",
       "3               Onion au gratin\n",
       "4                   St. Emilion\n",
       "Name: things, dtype: object"
      ]
     },
     "execution_count": 27,
     "metadata": {},
     "output_type": "execute_result"
    }
   ],
   "source": [
    "input[\"things\"][0:5]"
   ]
  },
  {
   "cell_type": "code",
   "execution_count": 28,
   "metadata": {},
   "outputs": [
    {
     "data": {
      "text/plain": [
       "0               MAISON MARCEL\n",
       "1    LA UNICA FOOD MART, INC.\n",
       "2             THE WING FULTON\n",
       "3                 LOOP TAVERN\n",
       "4            WABI SABI ROTARY\n",
       "Name: places, dtype: object"
      ]
     },
     "execution_count": 28,
     "metadata": {},
     "output_type": "execute_result"
    }
   ],
   "source": [
    "input[\"places\"][0:5]"
   ]
  },
  {
   "cell_type": "code",
   "execution_count": 39,
   "metadata": {},
   "outputs": [],
   "source": [
    "# get only the first item in the name, make lowercase\n",
    "cleaned_foods = []\n",
    "cleaned_foods = [str(re.sub(\"[^a-zA-Z ]+\", \"\", string.capwords(x.split(\",\")[0], \" \").lower())) for x in list(input[\"things\"]) if x not in cleaned_foods]\n",
    "cleaned_foods = list(dict.fromkeys(cleaned_foods))"
   ]
  },
  {
   "cell_type": "code",
   "execution_count": 40,
   "metadata": {},
   "outputs": [],
   "source": [
    "cleaned_places = []\n",
    "cleaned_places = [str(re.sub(\"[^a-zA-Z ]+\", \"\", string.capwords(str(x).split(\"\\\\\")[0].split(\"/\")[0].split(\"(\")[0], \" \"))) for x in list(input[\"places\"]) if x not in cleaned_places]"
   ]
  },
  {
   "cell_type": "code",
   "execution_count": 41,
   "metadata": {},
   "outputs": [],
   "source": [
    "things = {\"things\": cleaned_foods}\n",
    "places = {\"places\": cleaned_places}"
   ]
  },
  {
   "cell_type": "code",
   "execution_count": 42,
   "metadata": {},
   "outputs": [],
   "source": [
    "thing_df = pd.DataFrame(data=things)\n",
    "place_df = pd.DataFrame(data=places)\n",
    "place_df = place_df[place_df.places != \"Nan\"]"
   ]
  },
  {
   "cell_type": "code",
   "execution_count": 43,
   "metadata": {},
   "outputs": [],
   "source": [
    "thing_df.to_csv(\"things.csv\")\n",
    "place_df.to_csv(\"places.csv\")"
   ]
  },
  {
   "cell_type": "code",
   "execution_count": null,
   "metadata": {},
   "outputs": [],
   "source": []
  }
 ],
 "metadata": {
  "kernelspec": {
   "display_name": "Python 3",
   "language": "python",
   "name": "python3"
  },
  "language_info": {
   "codemirror_mode": {
    "name": "ipython",
    "version": 3
   },
   "file_extension": ".py",
   "mimetype": "text/x-python",
   "name": "python",
   "nbconvert_exporter": "python",
   "pygments_lexer": "ipython3",
   "version": "3.6.5"
  }
 },
 "nbformat": 4,
 "nbformat_minor": 2
}
